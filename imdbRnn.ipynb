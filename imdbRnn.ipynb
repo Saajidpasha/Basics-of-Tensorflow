{
  "nbformat": 4,
  "nbformat_minor": 0,
  "metadata": {
    "colab": {
      "name": "Untitled17.ipynb",
      "provenance": [],
      "toc_visible": true,
      "authorship_tag": "ABX9TyP4Lxa9KJiqF/5Erd7jK1et",
      "include_colab_link": true
    },
    "kernelspec": {
      "name": "python3",
      "display_name": "Python 3"
    },
    "accelerator": "GPU"
  },
  "cells": [
    {
      "cell_type": "markdown",
      "metadata": {
        "id": "view-in-github",
        "colab_type": "text"
      },
      "source": [
        "<a href=\"https://colab.research.google.com/github/Saajidpasha/Basics-of-Tensorflow/blob/master/imdbRnn.ipynb\" target=\"_parent\"><img src=\"https://colab.research.google.com/assets/colab-badge.svg\" alt=\"Open In Colab\"/></a>"
      ]
    },
    {
      "cell_type": "code",
      "metadata": {
        "id": "YjnfA9W7t88y",
        "colab_type": "code",
        "colab": {}
      },
      "source": [
        "import numpy as np\n",
        "import tensorflow as tf\n",
        "from tensorflow.keras.datasets import imdb"
      ],
      "execution_count": 0,
      "outputs": []
    },
    {
      "cell_type": "code",
      "metadata": {
        "id": "SY04tPCsvs79",
        "colab_type": "code",
        "colab": {
          "base_uri": "https://localhost:8080/",
          "height": 51
        },
        "outputId": "a7c6f1c0-a549-48c9-b0d8-783bfdaf17ab"
      },
      "source": [
        "#Dataset parameters\n",
        "num_of_words = 20000\n",
        "max_length = 100\n",
        "(X_train,y_train),(X_test,Y_test) = imdb.load_data(num_words = num_of_words)\n"
      ],
      "execution_count": 5,
      "outputs": [
        {
          "output_type": "stream",
          "text": [
            "Downloading data from https://storage.googleapis.com/tensorflow/tf-keras-datasets/imdb.npz\n",
            "17465344/17464789 [==============================] - 0s 0us/step\n"
          ],
          "name": "stdout"
        }
      ]
    },
    {
      "cell_type": "code",
      "metadata": {
        "id": "BVxgK1kDwMTx",
        "colab_type": "code",
        "colab": {}
      },
      "source": [
        "#padding all sequences to be of same length\n",
        "X_train = tf.keras.preprocessing.sequence.pad_sequences(X_train,maxlen=max_length)\n",
        "X_test = tf.keras.preprocessing.sequence.pad_sequences(X_test,maxlen=max_length)"
      ],
      "execution_count": 0,
      "outputs": []
    },
    {
      "cell_type": "code",
      "metadata": {
        "id": "gGJ9EkD_vtIf",
        "colab_type": "code",
        "colab": {
          "base_uri": "https://localhost:8080/",
          "height": 136
        },
        "outputId": "1dfc7eda-106c-4551-f9df-c878d8d80572"
      },
      "source": [
        "#Setting up embedding layers parameters\n",
        "vocab_size = num_of_words\n",
        "embed_size = 128\n",
        "model = tf.keras.Sequential()\n",
        "model.add(tf.keras.layers.Embedding(vocab_size,embed_size,input_shape=(X_train.shape[1],)))\n",
        "model.add(tf.keras.layers.LSTM(units = 128,activation='tanh'))\n",
        "\n",
        "#output layer\n",
        "model.add(tf.keras.layers.Dense(units = 1,activation = 'sigmoid'))\n",
        "model.compile(optimizer = 'rmsprop',loss='binary_crossentropy',metrics = ['accuracy'])\n",
        "model.fit(X_train,y_train,epochs = 3,batch_size = 128)\n",
        "test_loss,test_acc = model.evaluate(X_test,Y_test)"
      ],
      "execution_count": 16,
      "outputs": [
        {
          "output_type": "stream",
          "text": [
            "Epoch 1/3\n",
            "196/196 [==============================] - 6s 28ms/step - loss: 0.4611 - accuracy: 0.7864\n",
            "Epoch 2/3\n",
            "196/196 [==============================] - 6s 28ms/step - loss: 0.2870 - accuracy: 0.8834\n",
            "Epoch 3/3\n",
            "196/196 [==============================] - 5s 28ms/step - loss: 0.2296 - accuracy: 0.9119\n",
            "782/782 [==============================] - 3s 4ms/step - loss: 0.3460 - accuracy: 0.8546\n"
          ],
          "name": "stdout"
        }
      ]
    },
    {
      "cell_type": "code",
      "metadata": {
        "id": "VyYNsuIwyl0I",
        "colab_type": "code",
        "colab": {
          "base_uri": "https://localhost:8080/",
          "height": 34
        },
        "outputId": "ac946ab4-e6fa-4106-c2d2-068d3fd163db"
      },
      "source": [
        "print(\"Test Accuracy : {}\".format(test_acc))"
      ],
      "execution_count": 18,
      "outputs": [
        {
          "output_type": "stream",
          "text": [
            "Test Accuracy : 0.8545600175857544\n"
          ],
          "name": "stdout"
        }
      ]
    },
    {
      "cell_type": "code",
      "metadata": {
        "id": "3c6XfATLvtTU",
        "colab_type": "code",
        "colab": {}
      },
      "source": [
        "#Saving the model\n",
        "model_json = model.to_json()\n",
        "with open('imdb.json','w') as f:\n",
        "  f.write(model_json)\n",
        "#save the weights\n",
        "model.save_weights('imdb.json.h5')  "
      ],
      "execution_count": 0,
      "outputs": []
    }
  ]
}